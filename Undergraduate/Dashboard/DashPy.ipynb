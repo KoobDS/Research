{
 "cells": [
  {
   "cell_type": "code",
   "execution_count": 1,
   "id": "e8653b3b",
   "metadata": {},
   "outputs": [],
   "source": [
    "import numpy as np\n",
    "import pandas as pd"
   ]
  },
  {
   "cell_type": "code",
   "execution_count": 2,
   "id": "00cbe8b5",
   "metadata": {},
   "outputs": [],
   "source": [
    "# livestock\n",
    "Beef = pd.read_excel('C:/Users/benja/Documents/Corn_Soy_Dashboard/DashboardSubMaster.xlsx', sheet_name='Beef')\n",
    "Milk = pd.read_excel('C:/Users/benja/Documents/Corn_Soy_Dashboard/DashboardSubMaster.xlsx', sheet_name='Milk')\n",
    "Calves = pd.read_excel('C:/Users/benja/Documents/Corn_Soy_Dashboard/DashboardSubMaster.xlsx', sheet_name='Calves')\n",
    "Hogs = pd.read_excel('C:/Users/benja/Documents/Corn_Soy_Dashboard/DashboardSubMaster.xlsx', sheet_name='Hogs')\n",
    "Broilers = pd.read_excel('C:/Users/benja/Documents/Corn_Soy_Dashboard/DashboardSubMaster.xlsx', sheet_name='Broilers')\n",
    "Layers = pd.read_excel('C:/Users/benja/Documents/Corn_Soy_Dashboard/DashboardSubMaster.xlsx', sheet_name='Layers')"
   ]
  },
  {
   "cell_type": "code",
   "execution_count": 3,
   "id": "f9852579",
   "metadata": {},
   "outputs": [],
   "source": [
    "# List of Tennessee counties\n",
    "counties = [\n",
    "    \"Anderson\", \"Bedford\", \"Benton\", \"Bledsoe\", \"Blount\", \"Bradley\", \"Campbell\", \n",
    "    \"Cannon\", \"Carroll\", \"Carter\", \"Cheatham\", \"Chester\", \"Claiborne\", \"Clay\", \n",
    "    \"Cocke\", \"Coffee\", \"Crockett\", \"Cumberland\", \"Davidson\", \"De Kalb\", \"Decatur\", \n",
    "    \"Dickson\", \"Dyer\", \"Fayette\", \"Fentress\", \"Franklin\", \"Gibson\", \"Giles\", \n",
    "    \"Grainger\", \"Greene\", \"Grundy\", \"Hamblen\", \"Hamilton\", \"Hancock\", \"Hardeman\", \n",
    "    \"Hardin\", \"Hawkins\", \"Haywood\", \"Henderson\", \"Henry\", \"Hickman\", \"Houston\", \n",
    "    \"Humphreys\", \"Jackson\", \"Jefferson\", \"Johnson\", \"Knox\", \"Lake\", \"Lauderdale\", \n",
    "    \"Lawrence\", \"Lewis\", \"Lincoln\", \"Loudon\", \"Macon\", \"Madison\", \"Marion\", \"Marshall\", \n",
    "    \"Maury\", \"Mcminn\", \"Mcnairy\", \"Meigs\", \"Monroe\", \"Montgomery\", \"Moore\", \"Morgan\", \n",
    "    \"Obion\", \"Overton\", \"Perry\", \"Pickett\", \"Polk\", \"Putnam\", \"Rhea\", \"Roane\", \n",
    "    \"Robertson\", \"Rutherford\", \"Scott\", \"Sequatchie\", \"Sevier\", \"Shelby\", \"Smith\", \n",
    "    \"Stewart\", \"Sullivan\", \"Sumner\", \"Tipton\", \"Trousdale\", \"Unicoi\", \"Union\", \n",
    "    \"Van Buren\", \"Warren\", \"Washington\", \"Wayne\", \"Weakley\", \"White\", \"Williamson\", \"Wilson\"\n",
    "]\n",
    "\n",
    "# Years range\n",
    "years = list(range(2014, 2024))  # From 2014 to 2023\n",
    "\n",
    "# Create DataFrame using a list comprehension for Cartesian product of counties and years\n",
    "df = pd.DataFrame([(county, year) for county in counties for year in years], columns=['County', 'Year'])"
   ]
  },
  {
   "cell_type": "code",
   "execution_count": 4,
   "id": "153fcff4",
   "metadata": {},
   "outputs": [],
   "source": [
    "# List of livestock data and their respective column names in the main DataFrame\n",
    "livestock_dfs = [\n",
    "    (Beef, 'Beef'),\n",
    "    (Milk, 'Milk'),\n",
    "    (Calves, 'Calves'),\n",
    "    (Hogs, 'Hogs'),\n",
    "    (Broilers, 'Broilers'),\n",
    "    (Layers, 'Layers')\n",
    "]\n",
    "\n",
    "# Reshape each livestock DataFrame and merge it into the main DataFrame\n",
    "for livestock_df, column_name in livestock_dfs:\n",
    "    long_df = pd.melt(livestock_df, id_vars=['County'], var_name='Year', value_name=column_name)\n",
    "    long_df['Year'] = pd.to_numeric(long_df['Year'])\n",
    "    df = pd.merge(df, long_df, on=['County', 'Year'], how='left')\n",
    "\n",
    "# Save the final DataFrame to a CSV file\n",
    "# df.to_csv('Livestock.csv', index=False)"
   ]
  },
  {
   "cell_type": "code",
   "execution_count": 12,
   "id": "26eccbbb",
   "metadata": {},
   "outputs": [],
   "source": [
    "import numpy as np\n",
    "import pandas as pd\n",
    "\n",
    "Corn = pd.read_excel('C:/Users/benja/Documents/Corn_Soy_Dashboard/DashboardMaster.xlsx', sheet_name='Corn')\n",
    "Soy = pd.read_excel('C:/Users/benja/Documents/Corn_Soy_Dashboard/DashboardMaster.xlsx', sheet_name='Soy')\n",
    "Livestock = pd.read_excel('C:/Users/benja/Documents/Corn_Soy_Dashboard/DashboardMaster.xlsx', sheet_name='Livestock')"
   ]
  },
  {
   "cell_type": "code",
   "execution_count": 18,
   "id": "6958ef04",
   "metadata": {},
   "outputs": [],
   "source": [
    "# step 1\n",
    "# change data types to numeric for Corn['Planted','Harvested','Yield','Production'],\n",
    "# Soy['Planted','Harvested','Yield','Production'], Livestock['Beef','Milk','Calves','Hogs','Broilers','Layers']\n",
    "\n",
    "# step 2\n",
    "# for each 'County' for each of the 3 dfs, determine the mean for each feature above, rounded to 1 decimal,\n",
    "# impute 0 if all nulls\n",
    "\n",
    "#step 3\n",
    "# for each null space, fill in the mean; add the name of the imputed feature to the 'Estimated Values' column\n",
    "# ex: 'Planted, Yield, Production'\n",
    "\n",
    "# step 4\n",
    "# write to 3 sheets on one Excel file"
   ]
  },
  {
   "cell_type": "code",
   "execution_count": 22,
   "id": "bcd88fba",
   "metadata": {},
   "outputs": [
    {
     "data": {
      "text/plain": [
       "'C:/Users/benja/Documents/Corn_Soy_Dashboard/Filled_Dashboard_Final2.xlsx'"
      ]
     },
     "execution_count": 22,
     "metadata": {},
     "output_type": "execute_result"
    }
   ],
   "source": [
    "import pandas as pd\n",
    "import numpy as np\n",
    "\n",
    "# Function to detect and replace null values, spaces, or strange unicode characters\n",
    "def detect_nulls_and_strange_chars(df):\n",
    "    df.replace(r'^\\s*$', np.nan, regex=True, inplace=True)\n",
    "    df.replace(r'[^\\x00-\\x7F]+', np.nan, regex=True, inplace=True)\n",
    "    return df\n",
    "\n",
    "# Function to fill NaNs and track imputed features, leaving nulls blank for Corn and Soy\n",
    "def fill_na_and_track(df, columns, fill_zeros=False):\n",
    "    df['Estimated Values'] = ''\n",
    "    for col in columns:\n",
    "        mean_values = df.groupby('County')[col].transform(lambda x: round(x.mean(), 1) if x.notnull().any() else (0 if fill_zeros else np.nan))\n",
    "        df['Estimated Values'] = df.apply(lambda row: row['Estimated Values'] + (col + ', ') if pd.isnull(row[col]) else row['Estimated Values'], axis=1)\n",
    "        df[col].fillna(mean_values, inplace=True)\n",
    "    df['Estimated Values'] = df['Estimated Values'].str.rstrip(', ')\n",
    "    return df\n",
    "\n",
    "# Load the original file with potential null values or strange characters\n",
    "file_path = 'C:/Users/benja/Documents/Corn_Soy_Dashboard/DashboardMaster.xlsx'\n",
    "Corn_original = pd.read_excel(file_path, sheet_name='Corn')\n",
    "Soy_original = pd.read_excel(file_path, sheet_name='Soy')\n",
    "Livestock_original = pd.read_excel(file_path, sheet_name='Livestock')\n",
    "\n",
    "# Detect null values, spaces, or strange unicode characters\n",
    "Corn_checked = detect_nulls_and_strange_chars(Corn_original)\n",
    "Soy_checked = detect_nulls_and_strange_chars(Soy_original)\n",
    "Livestock_checked = detect_nulls_and_strange_chars(Livestock_original)\n",
    "\n",
    "# Apply the function to all DataFrames\n",
    "Corn_filled = fill_na_and_track(Corn_checked, corn_columns, fill_zeros=False)\n",
    "Soy_filled = fill_na_and_track(Soy_checked, soy_columns, fill_zeros=False)\n",
    "Livestock_filled = fill_na_and_track(Livestock_checked, livestock_columns, fill_zeros=True)\n",
    "\n",
    "# Save the results to a new Excel file with multiple sheets\n",
    "output_path_final = 'C:/Users/benja/Documents/Corn_Soy_Dashboard/Filled_Dashboard_Final2.xlsx'\n",
    "with pd.ExcelWriter(output_path_final) as writer:\n",
    "    Corn_filled.to_excel(writer, sheet_name='Corn_Filled', index=False)\n",
    "    Soy_filled.to_excel(writer, sheet_name='Soy_Filled', index=False)\n",
    "    Livestock_filled.to_excel(writer, sheet_name='Livestock_Filled', index=False)\n",
    "\n",
    "output_path_final"
   ]
  },
  {
   "cell_type": "code",
   "execution_count": null,
   "id": "91cfcfc2",
   "metadata": {},
   "outputs": [],
   "source": []
  }
 ],
 "metadata": {
  "kernelspec": {
   "display_name": "Python 3 (ipykernel)",
   "language": "python",
   "name": "python3"
  },
  "language_info": {
   "codemirror_mode": {
    "name": "ipython",
    "version": 3
   },
   "file_extension": ".py",
   "mimetype": "text/x-python",
   "name": "python",
   "nbconvert_exporter": "python",
   "pygments_lexer": "ipython3",
   "version": "3.9.18"
  }
 },
 "nbformat": 4,
 "nbformat_minor": 5
}
